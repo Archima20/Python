{
 "cells": [
  {
   "cell_type": "markdown",
   "metadata": {},
   "source": [
    "# Data Science Tools and Ecosystem"
   ]
  },
  {
   "cell_type": "markdown",
   "metadata": {},
   "source": [
    "\n",
    "In this notebook, Data Science Tools and Ecosystem are summarized."
   ]
  },
  {
   "cell_type": "markdown",
   "metadata": {},
   "source": [
    "## Some of the popular languages that Data Scientists use are:\n",
    "\n",
    "1. **Python**: Python is one of the most widely used languages in data science due to its rich ecosystem of libraries and readability and versatility, making it a great choice for various data manipulation, analysis, and machine learning tasks.\n",
    "\n",
    "2. **R**: R is another popular language in the data science community, especially for statistical analysis and data visualization. \n",
    "\n",
    "3. **SQL**: Structured Query Language (SQL) is essential for working with databases. Data scientists often use SQL to query and manipulate data stored in relational databases. I\n",
    "\n",
    "4. **Julia**: Julia is a newer language gaining traction in the data science field due to its high-performance capabilities. \n",
    "\n",
    "5. **Scala**: Scala, often used with Apache Spark, is known for its concurrency and distributed computing capabilities.\n",
    "\n",
    "6. **SAS**: SAS (Statistical Analysis System) is widely used in industries like healthcare and finance for data analysis and reporting. \n",
    "\n",
    "These languages offer a variety of tools and libraries that cater to different aspects of data science, from data cleaning and preprocessing to advanced machine learning modeling."
   ]
  },
  {
   "cell_type": "markdown",
   "metadata": {},
   "source": [
    "## Some of the commonly used libraries used by Data Scientists include:\n",
    "\n",
    "1. **NumPy**:  is a fundamental library for numerical computations in Python. \n",
    "\n",
    "2. **pandas**: is a powerful library for data manipulation and analysis. \n",
    "\n",
    "3. **matplotlib**: is a popular library for creating static, interactive, and animated visualizations in Python. \n",
    "\n",
    "4. **scikit-learn**: is a machine learning library that provides simple and efficient tools for data mining and data analysis.\n",
    "\n",
    "5. **TensorFlow and PyTorch**: are deep learning frameworks that enable the creation and training of complex neural network models. \n",
    "\n",
    "6. **Seaborn**: is a statistical data visualization library built on top of matplotlib. \n",
    "\n",
    "7. **StatsModels**: is a library used for estimating and interpreting statistical models."
   ]
  },
  {
   "cell_type": "markdown",
   "metadata": {},
   "source": [
    "## Data Science Tools\n",
    "\n",
    "|**Data Science Development Environment** |\n",
    "|--------------------------------------|\n",
    "| Jupyter Notebook                    |\n",
    "| RStudio                              |\n",
    "| Visual Studio Code                   |"
   ]
  },
  {
   "cell_type": "markdown",
   "metadata": {},
   "source": [
    "# Introduction to Arithmetic Expression Examples\n",
    "\n",
    "### Below are a few examples of evaluating arithmetic expressions in Python."
   ]
  },
  {
   "cell_type": "code",
   "execution_count": 8,
   "metadata": {},
   "outputs": [
    {
     "name": "stdout",
     "output_type": "stream",
     "text": [
      "17\n"
     ]
    }
   ],
   "source": [
    "#This a simple arithmetic expression to mutiply then add integers.\n",
    "print((3*4)+5)"
   ]
  },
  {
   "cell_type": "code",
   "execution_count": 9,
   "metadata": {},
   "outputs": [
    {
     "data": {
      "text/plain": [
       "3.3333333333333335"
      ]
     },
     "execution_count": 9,
     "metadata": {},
     "output_type": "execute_result"
    }
   ],
   "source": [
    "# This will convert 200 minutes to hours by dividing by 60.\n",
    "minutes = 200\n",
    "hours = minutes / 60\n",
    "hours"
   ]
  },
  {
   "cell_type": "markdown",
   "metadata": {},
   "source": [
    "# This will convert 200 minutes to hours by dividing by 60.\n",
    "minutes = 200\n",
    "hours = minutes / 60\n",
    "hours"
   ]
  },
  {
   "cell_type": "markdown",
   "metadata": {},
   "source": [
    "## Author\n",
    "Shima Naderi\n",
    "\n",
    "Agust 2023"
   ]
  }
 ],
 "metadata": {
  "kernelspec": {
   "display_name": "Python 3",
   "language": "python",
   "name": "python3"
  },
  "language_info": {
   "codemirror_mode": {
    "name": "ipython",
    "version": 3
   },
   "file_extension": ".py",
   "mimetype": "text/x-python",
   "name": "python",
   "nbconvert_exporter": "python",
   "pygments_lexer": "ipython3",
   "version": "3.11.0"
  },
  "orig_nbformat": 4
 },
 "nbformat": 4,
 "nbformat_minor": 2
}
